{
 "cells": [
  {
   "cell_type": "code",
   "execution_count": null,
   "id": "415c521e-7047-4cc4-9c2d-7c5eaa86bcfe",
   "metadata": {},
   "outputs": [],
   "source": [
    "# ORCID Member clientID and secret\n",
    "ID=\"\"\n",
    "SEC=\"\""
   ]
  },
  {
   "cell_type": "code",
   "execution_count": null,
   "id": "b055aac7-85d9-451b-aea0-85a1af445aed",
   "metadata": {},
   "outputs": [],
   "source": [
    "import requests"
   ]
  },
  {
   "cell_type": "markdown",
   "id": "7cb0785b-36b9-4d45-8a09-fb9374e90695",
   "metadata": {},
   "source": [
    "Get an Access token\n",
    "```\n",
    "URL=https://orcid.org/oauth/token\n",
    "  HEADER: Accept: application/json\n",
    "  METHOD: POST\n",
    "  DATA: \n",
    "    client_id=[Your public API client ID]\n",
    "    client_secret=[Your public API secret]\n",
    "    grant_type=client_credentials\n",
    "    scope=/read-public\n",
    "```"
   ]
  },
  {
   "cell_type": "code",
   "execution_count": null,
   "id": "84702e59-56b2-442e-b4f4-b97edbc78ea4",
   "metadata": {},
   "outputs": [],
   "source": [
    "URL=\"https://orcid.org/oauth/token\"\n",
    "HEADERS={\"Accept\": \"application/json\"}\n",
    "METHOD=\"POST\"\n",
    "DATA={\"client_id\": ID, \"client_secret\": SEC,  \"grant_type\": \"client_credentials\", \"scope\": \"/read-public\"}\n"
   ]
  },
  {
   "cell_type": "code",
   "execution_count": null,
   "id": "8e53c53d-fe71-49b4-924f-641d1d7faba2",
   "metadata": {},
   "outputs": [],
   "source": [
    "res=requests.post(url=URL, headers=HEADERS, data=DATA)"
   ]
  },
  {
   "cell_type": "code",
   "execution_count": null,
   "id": "209965c6-55c3-41f9-8f41-190a28a4f85b",
   "metadata": {},
   "outputs": [],
   "source": [
    "res"
   ]
  },
  {
   "cell_type": "code",
   "execution_count": null,
   "id": "51debb84-19e4-4c82-b95d-479230bbef7c",
   "metadata": {},
   "outputs": [],
   "source": [
    "bearer = res.json()['access_token']"
   ]
  },
  {
   "cell_type": "markdown",
   "id": "36000493-146b-434b-a7bc-e69b09d0cd3b",
   "metadata": {},
   "source": [
    "Info to query employments info in ORCID\n",
    "```\n",
    "Method: GET\n",
    "Headers:\n",
    "  Accept: application/json\n",
    "  Authorization: Bearer [Stored access token]\n",
    "URL: https://api.orcid.org/v3.0/[ORCID iD]/employments\n",
    "```"
   ]
  },
  {
   "cell_type": "code",
   "execution_count": null,
   "id": "a9f6634c-5630-49bb-aaf4-e6609b1ef12b",
   "metadata": {},
   "outputs": [],
   "source": [
    "file_path = 'orcids.csv'\n",
    "orcids = []\n",
    "\n",
    "# Reading all lines from the file\n",
    "try:\n",
    "    with open(file_path, 'r') as file:\n",
    "        lines = file.readlines()  # Read all lines into a list\n",
    "        for line in lines:\n",
    "            orcids.append(line.strip())  # Print each line, stripping newline characters\n",
    "except FileNotFoundError:\n",
    "    print(f\"The file at {file_path} was not found.\")\n",
    "except Exception as e:\n",
    "    print(f\"An error occurred: {e}\")"
   ]
  },
  {
   "cell_type": "code",
   "execution_count": 34,
   "id": "3d47d060-4f81-4129-a4e4-66421654ddf3",
   "metadata": {},
   "outputs": [
    {
     "data": {
      "text/plain": [
       "970"
      ]
     },
     "execution_count": 34,
     "metadata": {},
     "output_type": "execute_result"
    }
   ],
   "source": [
    "len(orcids)"
   ]
  },
  {
   "cell_type": "code",
   "execution_count": null,
   "id": "1f4c7fc5-358c-48af-8e0c-c0f7b4f0d29b",
   "metadata": {},
   "outputs": [],
   "source": [
    "orgs = []\n",
    "for orcid in orcids:\n",
    "    headers = {\"Accept\": \"application/json\", \"Authorization\": \"Bearer %s\" % bearer}\n",
    "    url = \"https://api.orcid.org/v3.0/%s/employments\" % orcid\n",
    "    orc = requests.get(url=url, headers=headers)\n",
    "    data=orc.json() \n",
    "    organization_names = []\n",
    "\n",
    "    # Loop through 'affiliation-group'\n",
    "    for group in data.get('affiliation-group', []):\n",
    "        # Loop through 'summaries' within each group\n",
    "        for summary in group.get('summaries', []):\n",
    "            # Extract 'employment-summary' and then the organization name\n",
    "            employment_summary = summary.get('employment-summary', {})\n",
    "            organization = employment_summary.get('organization', {})\n",
    "            organization_name = organization.get('name', None)\n",
    "            if organization_name:  # Add to the list if not None\n",
    "                organization_names.append(organization_name)\n",
    "\n",
    "    print(f\"{orcid}: {organization_names}\")\n",
    "    orgs.append({orcid: organization_names})\n"
   ]
  },
  {
   "cell_type": "code",
   "execution_count": 35,
   "id": "b1e10ccf-aa0b-4fec-aabb-2ac575315b76",
   "metadata": {},
   "outputs": [
    {
     "data": {
      "text/plain": [
       "970"
      ]
     },
     "execution_count": 35,
     "metadata": {},
     "output_type": "execute_result"
    }
   ],
   "source": [
    "len(orgs) # should match length of orcid list"
   ]
  },
  {
   "cell_type": "code",
   "execution_count": null,
   "id": "916a2706-75a3-425d-a89d-3d4a1585ce6c",
   "metadata": {},
   "outputs": [],
   "source": [
    "import json"
   ]
  },
  {
   "cell_type": "code",
   "execution_count": null,
   "id": "4d1cb925-b1ff-48e6-8887-05af3b6a2f83",
   "metadata": {},
   "outputs": [],
   "source": [
    "with open(\"orcid-orgs.json\", 'w') as file:\n",
    "        json.dump(orgs, file, indent=4)"
   ]
  },
  {
   "cell_type": "code",
   "execution_count": null,
   "id": "06238df1-6c47-42a1-8e05-285ef2db6967",
   "metadata": {},
   "outputs": [],
   "source": []
  }
 ],
 "metadata": {
  "kernelspec": {
   "display_name": "llama",
   "language": "python",
   "name": "llama"
  },
  "language_info": {
   "codemirror_mode": {
    "name": "ipython",
    "version": 3
   },
   "file_extension": ".py",
   "mimetype": "text/x-python",
   "name": "python",
   "nbconvert_exporter": "python",
   "pygments_lexer": "ipython3",
   "version": "3.12.3"
  }
 },
 "nbformat": 4,
 "nbformat_minor": 5
}
