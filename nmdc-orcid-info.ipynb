{
 "cells": [
  {
   "cell_type": "code",
   "execution_count": null,
   "id": "415c521e-7047-4cc4-9c2d-7c5eaa86bcfe",
   "metadata": {},
   "outputs": [],
   "source": [
    "# ORCID Member clientID and secret\n",
    "ID=\"\"\n",
    "SEC=\"\""
   ]
  },
  {
   "cell_type": "code",
   "execution_count": null,
   "id": "b055aac7-85d9-451b-aea0-85a1af445aed",
   "metadata": {},
   "outputs": [],
   "source": [
    "import requests"
   ]
  },
  {
   "cell_type": "markdown",
   "id": "7cb0785b-36b9-4d45-8a09-fb9374e90695",
   "metadata": {},
   "source": [
    "Get an Access token\n",
    "```\n",
    "URL=https://orcid.org/oauth/token\n",
    "  HEADER: Accept: application/json\n",
    "  METHOD: POST\n",
    "  DATA: \n",
    "    client_id=[Your public API client ID]\n",
    "    client_secret=[Your public API secret]\n",
    "    grant_type=client_credentials\n",
    "    scope=/read-public\n",
    "```"
   ]
  },
  {
   "cell_type": "code",
   "execution_count": null,
   "id": "84702e59-56b2-442e-b4f4-b97edbc78ea4",
   "metadata": {},
   "outputs": [],
   "source": [
    "URL=\"https://orcid.org/oauth/token\"\n",
    "HEADERS={\"Accept\": \"application/json\"}\n",
    "METHOD=\"POST\"\n",
    "DATA={\"client_id\": ID, \"client_secret\": SEC,  \"grant_type\": \"client_credentials\", \"scope\": \"/read-public\"}\n"
   ]
  },
  {
   "cell_type": "code",
   "execution_count": null,
   "id": "8e53c53d-fe71-49b4-924f-641d1d7faba2",
   "metadata": {},
   "outputs": [],
   "source": [
    "res=requests.post(url=URL, headers=HEADERS, data=DATA)"
   ]
  },
  {
   "cell_type": "code",
   "execution_count": null,
   "id": "209965c6-55c3-41f9-8f41-190a28a4f85b",
   "metadata": {},
   "outputs": [],
   "source": [
    "res"
   ]
  },
  {
   "cell_type": "code",
   "execution_count": null,
   "id": "51debb84-19e4-4c82-b95d-479230bbef7c",
   "metadata": {},
   "outputs": [],
   "source": [
    "bearer = res.json()['access_token']"
   ]
  },
  {
   "cell_type": "markdown",
   "id": "36000493-146b-434b-a7bc-e69b09d0cd3b",
   "metadata": {},
   "source": [
    "Info to user summary info in ORCID\n",
    "```\n",
    "Method: GET\n",
    "Headers:\n",
    "  Accept: application/json\n",
    "  Authorization: Bearer [Stored access token]\n",
    "URL: https://api.orcid.org/v3.0/[ORCID iD]/summary\n",
    "```"
   ]
  },
  {
   "cell_type": "code",
   "execution_count": null,
   "id": "a9f6634c-5630-49bb-aaf4-e6609b1ef12b",
   "metadata": {},
   "outputs": [],
   "source": [
    "file_path = 'orcids.csv'\n",
    "orcids = []\n",
    "\n",
    "# Reading all lines from the file\n",
    "try:\n",
    "    with open(file_path, 'r') as file:\n",
    "        lines = file.readlines()  # Read all lines into a list\n",
    "        for line in lines:\n",
    "            orcids.append(line.strip())  # Print each line, stripping newline characters\n",
    "except FileNotFoundError:\n",
    "    print(f\"The file at {file_path} was not found.\")\n",
    "except Exception as e:\n",
    "    print(f\"An error occurred: {e}\")"
   ]
  },
  {
   "cell_type": "code",
   "execution_count": null,
   "id": "3d47d060-4f81-4129-a4e4-66421654ddf3",
   "metadata": {},
   "outputs": [],
   "source": [
    "len(orcids)"
   ]
  },
  {
   "cell_type": "code",
   "execution_count": null,
   "id": "dd1b4e80-82ce-4265-9ce1-7f4f597f4365",
   "metadata": {},
   "outputs": [],
   "source": [
    "headers = {\"Accept\": \"application/json\", \"Authorization\": \"Bearer %s\" % bearer}\n",
    "url = \"https://api.orcid.org/v3.0/%s/summary\" % \"0000-0002-5466-1432\"\n",
    "orc = requests.get(url=url, headers=headers)\n",
    "orc.json()\n",
    "# name_dict = orc.json()['name']\n",
    "# name = name_dict['given-names']['value'] + ' ' + name_dict['family-name']['value'] \n",
    "# print(name)"
   ]
  },
  {
   "cell_type": "code",
   "execution_count": null,
   "id": "85f04437-c17f-48aa-a7fc-39acd49c041a",
   "metadata": {},
   "outputs": [],
   "source": [
    "orcids[0]"
   ]
  },
  {
   "cell_type": "code",
   "execution_count": null,
   "id": "1f4c7fc5-358c-48af-8e0c-c0f7b4f0d29b",
   "metadata": {},
   "outputs": [],
   "source": [
    "orgs = []\n",
    "for orcid in orcids:\n",
    "    headers = {\"Accept\": \"application/json\", \"Authorization\": \"Bearer %s\" % bearer}\n",
    "    url = \"https://api.orcid.org/v3.0/%s/summary\" % orcid\n",
    "\n",
    "    orc = requests.get(url=url, headers=headers)\n",
    "    \n",
    "    data=orc.json() \n",
    "    organization_names = []\n",
    "\n",
    "    # Extract credit-name\n",
    "    credit_name = data.get('credit-name', None)\n",
    "\n",
    "    # Extract organization-name from employments\n",
    "    employments = data.get('employments', {}).get('employment', [])\n",
    "    if employments:\n",
    "        organization_names = [employment.get('organization-name') for employment in employments if 'organization-name' in employment]    \n",
    "\n",
    "    print(f\"{orcid}, {credit_name}, {organization_names}\")\n",
    "    orgs.append([orcid, credit_name, organization_names])\n"
   ]
  },
  {
   "cell_type": "code",
   "execution_count": null,
   "id": "b1e10ccf-aa0b-4fec-aabb-2ac575315b76",
   "metadata": {},
   "outputs": [],
   "source": [
    "len(orgs) # should match length of orcid list"
   ]
  },
  {
   "cell_type": "code",
   "execution_count": null,
   "id": "916a2706-75a3-425d-a89d-3d4a1585ce6c",
   "metadata": {},
   "outputs": [],
   "source": [
    "orgs"
   ]
  },
  {
   "cell_type": "code",
   "execution_count": null,
   "id": "06238df1-6c47-42a1-8e05-285ef2db6967",
   "metadata": {},
   "outputs": [],
   "source": [
    "import csv\n",
    "# Write to CSV\n",
    "output_file = 'orcid_data.csv'\n",
    "\n",
    "with open(output_file, mode='w', newline='') as file:\n",
    "    writer = csv.writer(file)\n",
    "    # Write header\n",
    "    writer.writerow(['ORCID', 'Name', 'Organizations'])\n",
    "    # Write data\n",
    "    for row in orgs: \n",
    "        writer.writerow(row)\n",
    "\n"
   ]
  },
  {
   "cell_type": "code",
   "execution_count": null,
   "id": "5c4b884a-353e-4936-8dbf-ffba4207fdd2",
   "metadata": {},
   "outputs": [],
   "source": []
  }
 ],
 "metadata": {
  "kernelspec": {
   "display_name": "llama",
   "language": "python",
   "name": "llama"
  },
  "language_info": {
   "codemirror_mode": {
    "name": "ipython",
    "version": 3
   },
   "file_extension": ".py",
   "mimetype": "text/x-python",
   "name": "python",
   "nbconvert_exporter": "python",
   "pygments_lexer": "ipython3",
   "version": "3.12.3"
  }
 },
 "nbformat": 4,
 "nbformat_minor": 5
}
